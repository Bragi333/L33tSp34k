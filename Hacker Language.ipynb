{
 "cells": [
  {
   "cell_type": "markdown",
   "metadata": {},
   "source": [
    "# Cool Dank Hacker Language BROOO\n",
    "Changes letters to numbers to create Brian's stupid \"hacker language.\""
   ]
  },
  {
   "cell_type": "code",
   "execution_count": 4,
   "metadata": {},
   "outputs": [],
   "source": [
    "def hacker(text):\n",
    "    for ch in ['a', 'e', 'i', 'o', 'u', 's']:\n",
    "        if ch in text:\n",
    "            text = text.replace('a', '4').replace('e', '3').replace('i', '1').replace('o', '0').replace('u', 'V').replace('s', '$')\n",
    "    return text"
   ]
  },
  {
   "cell_type": "code",
   "execution_count": 5,
   "metadata": {},
   "outputs": [
    {
     "name": "stdout",
     "output_type": "stream",
     "text": [
      "What sentence would you like to be hack-a-fied?Brian can suck a big weiner!\n"
     ]
    }
   ],
   "source": [
    "text = input('What sentence would you like to be hack-a-fied?')"
   ]
  },
  {
   "cell_type": "code",
   "execution_count": 6,
   "metadata": {},
   "outputs": [
    {
     "name": "stdout",
     "output_type": "stream",
     "text": [
      "Br14n c4n $Vck 4 b1g w31n3r!\n"
     ]
    }
   ],
   "source": [
    "print (hacker(text))"
   ]
  },
  {
   "cell_type": "code",
   "execution_count": null,
   "metadata": {},
   "outputs": [],
   "source": []
  }
 ],
 "metadata": {
  "kernelspec": {
   "display_name": "Python 3",
   "language": "python",
   "name": "python3"
  },
  "language_info": {
   "codemirror_mode": {
    "name": "ipython",
    "version": 3
   },
   "file_extension": ".py",
   "mimetype": "text/x-python",
   "name": "python",
   "nbconvert_exporter": "python",
   "pygments_lexer": "ipython3",
   "version": "3.5.3"
  }
 },
 "nbformat": 4,
 "nbformat_minor": 2
}
