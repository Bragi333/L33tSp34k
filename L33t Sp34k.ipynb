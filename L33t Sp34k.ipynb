{
 "cells": [
  {
   "cell_type": "markdown",
   "metadata": {},
   "source": [
    "### Cool Dank L33t Sp3aK Language BROOO\n",
    "Changes letters to numbers to create Brian's stupid \"hacker language,\" also known as \"Leet Speak.\""
   ]
  },
  {
   "cell_type": "code",
   "execution_count": 1,
   "metadata": {},
   "outputs": [],
   "source": [
    "def hacker(text):\n",
    "    for ch in ['a', 'e', 'i', 'o', 'u', 's']:\n",
    "        if ch in text:\n",
    "            text = text.replace('a', '4').replace('e', '3').replace('i', '1').replace('o', '0').replace('u', 'V').replace('s', '$')\n",
    "    return text"
   ]
  },
  {
   "cell_type": "code",
   "execution_count": 2,
   "metadata": {},
   "outputs": [
    {
     "name": "stdout",
     "output_type": "stream",
     "text": [
      "Type in a sentence and we'll l33t-i-fy it for you: Wow, this is the coolest thing ever. I can't wait to show other gamers how cool and hip I am.\n"
     ]
    }
   ],
   "source": [
    "text = input(\"Type in a sentence and we'll l33t-i-fy it for you: \")"
   ]
  },
  {
   "cell_type": "code",
   "execution_count": 3,
   "metadata": {},
   "outputs": [
    {
     "name": "stdout",
     "output_type": "stream",
     "text": [
      "W0w, th1$ 1$ th3 c00l3$t th1ng 3v3r. I c4n't w41t t0 $h0w 0th3r g4m3r$ h0w c00l 4nd h1p I 4m.\n"
     ]
    }
   ],
   "source": [
    "print (hacker(text))"
   ]
  }
 ],
 "metadata": {
  "kernelspec": {
   "display_name": "Python 3",
   "language": "python",
   "name": "python3"
  },
  "language_info": {
   "codemirror_mode": {
    "name": "ipython",
    "version": 3
   },
   "file_extension": ".py",
   "mimetype": "text/x-python",
   "name": "python",
   "nbconvert_exporter": "python",
   "pygments_lexer": "ipython3",
   "version": "3.5.3"
  }
 },
 "nbformat": 4,
 "nbformat_minor": 2
}
